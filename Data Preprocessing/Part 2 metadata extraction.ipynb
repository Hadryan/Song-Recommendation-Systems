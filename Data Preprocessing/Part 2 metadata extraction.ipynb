{
 "cells": [
  {
   "cell_type": "markdown",
   "metadata": {},
   "source": [
    "## For track information "
   ]
  },
  {
   "cell_type": "code",
   "execution_count": 1,
   "metadata": {},
   "outputs": [],
   "source": [
    "import pandas as pd\n",
    "\n",
    "df = pd.read_csv(\"cleaned_data/seeds.csv\")"
   ]
  },
  {
   "cell_type": "code",
   "execution_count": 2,
   "metadata": {},
   "outputs": [],
   "source": [
    "# place SQL results in a DataFrame - method 2: pandas read_sql_query()\n",
    "import sqlite3 as sql\n",
    "import pandas as pd\n",
    "connection = sql.Connection(\"raw_data/track_metadata.db\")\n",
    "query = 'SELECT * FROM songs'\n",
    "meta = pd.read_sql_query(query, con=connection)"
   ]
  },
  {
   "cell_type": "code",
   "execution_count": 3,
   "metadata": {},
   "outputs": [
    {
     "data": {
      "text/html": [
       "<div>\n",
       "<style scoped>\n",
       "    .dataframe tbody tr th:only-of-type {\n",
       "        vertical-align: middle;\n",
       "    }\n",
       "\n",
       "    .dataframe tbody tr th {\n",
       "        vertical-align: top;\n",
       "    }\n",
       "\n",
       "    .dataframe thead th {\n",
       "        text-align: right;\n",
       "    }\n",
       "</style>\n",
       "<table border=\"1\" class=\"dataframe\">\n",
       "  <thead>\n",
       "    <tr style=\"text-align: right;\">\n",
       "      <th></th>\n",
       "      <th>track_id</th>\n",
       "      <th>title</th>\n",
       "      <th>song_id</th>\n",
       "      <th>release</th>\n",
       "      <th>artist_id</th>\n",
       "      <th>artist_mbid</th>\n",
       "      <th>artist_name</th>\n",
       "      <th>duration</th>\n",
       "      <th>artist_familiarity</th>\n",
       "      <th>artist_hotttnesss</th>\n",
       "      <th>year</th>\n",
       "    </tr>\n",
       "  </thead>\n",
       "  <tbody>\n",
       "    <tr>\n",
       "      <td>0</td>\n",
       "      <td>TRMMMYQ128F932D901</td>\n",
       "      <td>Silent Night</td>\n",
       "      <td>SOQMMHC12AB0180CB8</td>\n",
       "      <td>Monster Ballads X-Mas</td>\n",
       "      <td>ARYZTJS1187B98C555</td>\n",
       "      <td>357ff05d-848a-44cf-b608-cb34b5701ae5</td>\n",
       "      <td>Faster Pussy cat</td>\n",
       "      <td>252.05506</td>\n",
       "      <td>0.649822</td>\n",
       "      <td>0.394032</td>\n",
       "      <td>2003</td>\n",
       "    </tr>\n",
       "    <tr>\n",
       "      <td>1</td>\n",
       "      <td>TRMMMCH128F425532C</td>\n",
       "      <td>Si Vos Querés</td>\n",
       "      <td>SOBNYVR12A8C13558C</td>\n",
       "      <td>De Culo</td>\n",
       "      <td>ARNWYLR1187B9B2F9C</td>\n",
       "      <td>12be7648-7094-495f-90e6-df4189d68615</td>\n",
       "      <td>Yerba Brava</td>\n",
       "      <td>145.05751</td>\n",
       "      <td>0.448501</td>\n",
       "      <td>0.372349</td>\n",
       "      <td>2003</td>\n",
       "    </tr>\n",
       "    <tr>\n",
       "      <td>2</td>\n",
       "      <td>TRMMMNS128F93548E1</td>\n",
       "      <td>L'antarctique</td>\n",
       "      <td>SOYGNWH12AB018191E</td>\n",
       "      <td>Des cobras des tarentules</td>\n",
       "      <td>AR59BSJ1187FB4474F</td>\n",
       "      <td>891fccfc-24c1-4bfd-bf49-c736e59e443f</td>\n",
       "      <td>3 Gars Su'l Sofa</td>\n",
       "      <td>68.96281</td>\n",
       "      <td>0.555014</td>\n",
       "      <td>0.352949</td>\n",
       "      <td>2007</td>\n",
       "    </tr>\n",
       "    <tr>\n",
       "      <td>3</td>\n",
       "      <td>TRMMMXI128F4285A3F</td>\n",
       "      <td>N Gana</td>\n",
       "      <td>SOGPCJI12A8C13CCA0</td>\n",
       "      <td>Afropea 3 - Telling Stories To The Sea</td>\n",
       "      <td>ARBAMQB1187FB3C650</td>\n",
       "      <td>0bb5e108-b41d-46cd-969e-69d34d1acdfe</td>\n",
       "      <td>Waldemar Bastos</td>\n",
       "      <td>273.18812</td>\n",
       "      <td>0.543690</td>\n",
       "      <td>0.373679</td>\n",
       "      <td>0</td>\n",
       "    </tr>\n",
       "    <tr>\n",
       "      <td>4</td>\n",
       "      <td>TRMMMKI128F931D80D</td>\n",
       "      <td>006</td>\n",
       "      <td>SOSDCFG12AB0184647</td>\n",
       "      <td>Lena 20 År</td>\n",
       "      <td>ARSB5591187B99A848</td>\n",
       "      <td>fba3e876-68f1-4a1f-99d9-c604480202ba</td>\n",
       "      <td>Lena Philipsson</td>\n",
       "      <td>262.26893</td>\n",
       "      <td>0.529819</td>\n",
       "      <td>0.410229</td>\n",
       "      <td>1998</td>\n",
       "    </tr>\n",
       "  </tbody>\n",
       "</table>\n",
       "</div>"
      ],
      "text/plain": [
       "             track_id          title             song_id  \\\n",
       "0  TRMMMYQ128F932D901   Silent Night  SOQMMHC12AB0180CB8   \n",
       "1  TRMMMCH128F425532C  Si Vos Querés  SOBNYVR12A8C13558C   \n",
       "2  TRMMMNS128F93548E1  L'antarctique  SOYGNWH12AB018191E   \n",
       "3  TRMMMXI128F4285A3F         N Gana  SOGPCJI12A8C13CCA0   \n",
       "4  TRMMMKI128F931D80D            006  SOSDCFG12AB0184647   \n",
       "\n",
       "                                  release           artist_id  \\\n",
       "0                   Monster Ballads X-Mas  ARYZTJS1187B98C555   \n",
       "1                                 De Culo  ARNWYLR1187B9B2F9C   \n",
       "2               Des cobras des tarentules  AR59BSJ1187FB4474F   \n",
       "3  Afropea 3 - Telling Stories To The Sea  ARBAMQB1187FB3C650   \n",
       "4                              Lena 20 År  ARSB5591187B99A848   \n",
       "\n",
       "                            artist_mbid       artist_name   duration  \\\n",
       "0  357ff05d-848a-44cf-b608-cb34b5701ae5  Faster Pussy cat  252.05506   \n",
       "1  12be7648-7094-495f-90e6-df4189d68615       Yerba Brava  145.05751   \n",
       "2  891fccfc-24c1-4bfd-bf49-c736e59e443f  3 Gars Su'l Sofa   68.96281   \n",
       "3  0bb5e108-b41d-46cd-969e-69d34d1acdfe   Waldemar Bastos  273.18812   \n",
       "4  fba3e876-68f1-4a1f-99d9-c604480202ba   Lena Philipsson  262.26893   \n",
       "\n",
       "   artist_familiarity  artist_hotttnesss  year  \n",
       "0            0.649822           0.394032  2003  \n",
       "1            0.448501           0.372349  2003  \n",
       "2            0.555014           0.352949  2007  \n",
       "3            0.543690           0.373679     0  \n",
       "4            0.529819           0.410229  1998  "
      ]
     },
     "execution_count": 3,
     "metadata": {},
     "output_type": "execute_result"
    }
   ],
   "source": [
    "meta = meta[meta.track_id.isin(df.track_id)].reset_index(drop=True)\n",
    "\n",
    "# drop last three columns\n",
    "meta = meta.iloc[:, :-3]\n",
    "\n",
    "meta.head()"
   ]
  },
  {
   "cell_type": "code",
   "execution_count": 4,
   "metadata": {},
   "outputs": [],
   "source": [
    "# save metadata\n",
    "meta.to_csv(\"cleaned_data/tracks_metadata.csv\", index=False)"
   ]
  },
  {
   "cell_type": "markdown",
   "metadata": {},
   "source": [
    "## For Artists"
   ]
  },
  {
   "cell_type": "code",
   "execution_count": 5,
   "metadata": {},
   "outputs": [],
   "source": [
    "# artist tags database\n",
    "\n",
    "connection = sql.Connection(\"raw_data/artist_term.db\")\n",
    "query = 'SELECT * FROM artist_mbtag'\n",
    "artist = pd.read_sql_query(query, con=connection)"
   ]
  },
  {
   "cell_type": "code",
   "execution_count": 6,
   "metadata": {},
   "outputs": [
    {
     "data": {
      "text/html": [
       "<div>\n",
       "<style scoped>\n",
       "    .dataframe tbody tr th:only-of-type {\n",
       "        vertical-align: middle;\n",
       "    }\n",
       "\n",
       "    .dataframe tbody tr th {\n",
       "        vertical-align: top;\n",
       "    }\n",
       "\n",
       "    .dataframe thead th {\n",
       "        text-align: right;\n",
       "    }\n",
       "</style>\n",
       "<table border=\"1\" class=\"dataframe\">\n",
       "  <thead>\n",
       "    <tr style=\"text-align: right;\">\n",
       "      <th></th>\n",
       "      <th>artist_id</th>\n",
       "      <th>mbtag</th>\n",
       "    </tr>\n",
       "  </thead>\n",
       "  <tbody>\n",
       "    <tr>\n",
       "      <td>0</td>\n",
       "      <td>AR002UA1187B9A637D</td>\n",
       "      <td>uk</td>\n",
       "    </tr>\n",
       "    <tr>\n",
       "      <td>1</td>\n",
       "      <td>AR002UA1187B9A637D</td>\n",
       "      <td>rock</td>\n",
       "    </tr>\n",
       "    <tr>\n",
       "      <td>2</td>\n",
       "      <td>AR002UA1187B9A637D</td>\n",
       "      <td>garage rock</td>\n",
       "    </tr>\n",
       "    <tr>\n",
       "      <td>3</td>\n",
       "      <td>AR006821187FB5192B</td>\n",
       "      <td>bass</td>\n",
       "    </tr>\n",
       "    <tr>\n",
       "      <td>4</td>\n",
       "      <td>AR00A6H1187FB5402A</td>\n",
       "      <td>detroit</td>\n",
       "    </tr>\n",
       "  </tbody>\n",
       "</table>\n",
       "</div>"
      ],
      "text/plain": [
       "            artist_id        mbtag\n",
       "0  AR002UA1187B9A637D           uk\n",
       "1  AR002UA1187B9A637D         rock\n",
       "2  AR002UA1187B9A637D  garage rock\n",
       "3  AR006821187FB5192B         bass\n",
       "4  AR00A6H1187FB5402A      detroit"
      ]
     },
     "execution_count": 6,
     "metadata": {},
     "output_type": "execute_result"
    }
   ],
   "source": [
    "artist.head()"
   ]
  },
  {
   "cell_type": "code",
   "execution_count": 7,
   "metadata": {},
   "outputs": [],
   "source": [
    "# combine rows into lists\n",
    "\n",
    "artist = artist.groupby(\"artist_id\")['mbtag'].apply(list).reset_index(name='tags')"
   ]
  },
  {
   "cell_type": "code",
   "execution_count": 8,
   "metadata": {},
   "outputs": [
    {
     "name": "stderr",
     "output_type": "stream",
     "text": [
      "/Users/ginger/opt/anaconda3/lib/python3.7/site-packages/ipykernel_launcher.py:2: ParserWarning: Falling back to the 'python' engine because the 'c' engine does not support regex separators (separators > 1 char and different from '\\s+' are interpreted as regex); you can avoid this warning by specifying engine='python'.\n",
      "  \n"
     ]
    }
   ],
   "source": [
    "artist2 = pd.read_csv(\"raw_data/artist_location.txt\", header=None,\n",
    "                   sep='<SEP>', names=['artist_id','lng','lat','artist_name','place'])"
   ]
  },
  {
   "cell_type": "code",
   "execution_count": 9,
   "metadata": {},
   "outputs": [],
   "source": [
    "artist = artist.merge(artist2, how='left', on='artist_id')\n",
    "# select artist in our listening history\n",
    "\n",
    "artist = artist[artist.artist_id.isin(meta.artist_id)].reset_index(drop=True)\n",
    "artist.drop(columns='artist_name', axis=1, inplace=True)"
   ]
  },
  {
   "cell_type": "code",
   "execution_count": 10,
   "metadata": {},
   "outputs": [
    {
     "data": {
      "text/html": [
       "<div>\n",
       "<style scoped>\n",
       "    .dataframe tbody tr th:only-of-type {\n",
       "        vertical-align: middle;\n",
       "    }\n",
       "\n",
       "    .dataframe tbody tr th {\n",
       "        vertical-align: top;\n",
       "    }\n",
       "\n",
       "    .dataframe thead th {\n",
       "        text-align: right;\n",
       "    }\n",
       "</style>\n",
       "<table border=\"1\" class=\"dataframe\">\n",
       "  <thead>\n",
       "    <tr style=\"text-align: right;\">\n",
       "      <th></th>\n",
       "      <th>artist_id</th>\n",
       "      <th>tags</th>\n",
       "      <th>lng</th>\n",
       "      <th>lat</th>\n",
       "      <th>place</th>\n",
       "    </tr>\n",
       "  </thead>\n",
       "  <tbody>\n",
       "    <tr>\n",
       "      <td>0</td>\n",
       "      <td>AR00B1I1187FB433EB</td>\n",
       "      <td>[european, swedish, classic pop and rock]</td>\n",
       "      <td>NaN</td>\n",
       "      <td>NaN</td>\n",
       "      <td>NaN</td>\n",
       "    </tr>\n",
       "    <tr>\n",
       "      <td>1</td>\n",
       "      <td>AR00FVC1187FB5BE3E</td>\n",
       "      <td>[german, berlin]</td>\n",
       "      <td>25.67084</td>\n",
       "      <td>-100.30953</td>\n",
       "      <td>Monterrey, NL, México</td>\n",
       "    </tr>\n",
       "    <tr>\n",
       "      <td>2</td>\n",
       "      <td>AR00IKC1187FB37BD5</td>\n",
       "      <td>[uk, scotland, edinburgh, punk, anarcho]</td>\n",
       "      <td>NaN</td>\n",
       "      <td>NaN</td>\n",
       "      <td>NaN</td>\n",
       "    </tr>\n",
       "    <tr>\n",
       "      <td>3</td>\n",
       "      <td>AR00M9H1187B9B59CA</td>\n",
       "      <td>[virgin islands reggae]</td>\n",
       "      <td>47.67885</td>\n",
       "      <td>-122.20724</td>\n",
       "      <td>Kirkland, WA</td>\n",
       "    </tr>\n",
       "    <tr>\n",
       "      <td>4</td>\n",
       "      <td>AR00P3M1187FB5428C</td>\n",
       "      <td>[british]</td>\n",
       "      <td>NaN</td>\n",
       "      <td>NaN</td>\n",
       "      <td>NaN</td>\n",
       "    </tr>\n",
       "  </tbody>\n",
       "</table>\n",
       "</div>"
      ],
      "text/plain": [
       "            artist_id                                       tags       lng  \\\n",
       "0  AR00B1I1187FB433EB  [european, swedish, classic pop and rock]       NaN   \n",
       "1  AR00FVC1187FB5BE3E                           [german, berlin]  25.67084   \n",
       "2  AR00IKC1187FB37BD5   [uk, scotland, edinburgh, punk, anarcho]       NaN   \n",
       "3  AR00M9H1187B9B59CA                    [virgin islands reggae]  47.67885   \n",
       "4  AR00P3M1187FB5428C                                  [british]       NaN   \n",
       "\n",
       "         lat                  place  \n",
       "0        NaN                    NaN  \n",
       "1 -100.30953  Monterrey, NL, México  \n",
       "2        NaN                    NaN  \n",
       "3 -122.20724           Kirkland, WA  \n",
       "4        NaN                    NaN  "
      ]
     },
     "execution_count": 10,
     "metadata": {},
     "output_type": "execute_result"
    }
   ],
   "source": [
    "artist.head(5)"
   ]
  },
  {
   "cell_type": "code",
   "execution_count": 11,
   "metadata": {},
   "outputs": [],
   "source": [
    "artist.to_csv(\"cleaned_data/artist.csv\", index=False)"
   ]
  },
  {
   "cell_type": "markdown",
   "metadata": {},
   "source": [
    "## Lyrics "
   ]
  },
  {
   "cell_type": "markdown",
   "metadata": {},
   "source": [
    "https://github.com/tbertinmahieux/MSongsDB/blob/master/Tasks_Demos/Lyrics/README.txt"
   ]
  },
  {
   "cell_type": "markdown",
   "metadata": {},
   "source": [
    "It is worth discussion for better representation format."
   ]
  },
  {
   "cell_type": "code",
   "execution_count": 12,
   "metadata": {},
   "outputs": [],
   "source": [
    "# place SQL results in a DataFrame - method 2: pandas read_sql_query()\n",
    "connection = sql.Connection(\"raw_data/lyrics.db\")\n",
    "query = 'SELECT * FROM words'\n",
    "words = pd.read_sql_query(query, con=connection)"
   ]
  },
  {
   "cell_type": "code",
   "execution_count": 14,
   "metadata": {},
   "outputs": [],
   "source": [
    "words.to_csv(\"cleaned_data/word_list.csv\")"
   ]
  },
  {
   "cell_type": "code",
   "execution_count": 15,
   "metadata": {},
   "outputs": [],
   "source": [
    "query = 'SELECT * FROM lyrics'\n",
    "lyrics = pd.read_sql_query(query, con=connection)"
   ]
  },
  {
   "cell_type": "code",
   "execution_count": 17,
   "metadata": {},
   "outputs": [
    {
     "data": {
      "text/html": [
       "<div>\n",
       "<style scoped>\n",
       "    .dataframe tbody tr th:only-of-type {\n",
       "        vertical-align: middle;\n",
       "    }\n",
       "\n",
       "    .dataframe tbody tr th {\n",
       "        vertical-align: top;\n",
       "    }\n",
       "\n",
       "    .dataframe thead th {\n",
       "        text-align: right;\n",
       "    }\n",
       "</style>\n",
       "<table border=\"1\" class=\"dataframe\">\n",
       "  <thead>\n",
       "    <tr style=\"text-align: right;\">\n",
       "      <th></th>\n",
       "      <th>track_id</th>\n",
       "      <th>mxm_tid</th>\n",
       "      <th>word</th>\n",
       "      <th>count</th>\n",
       "      <th>is_test</th>\n",
       "    </tr>\n",
       "  </thead>\n",
       "  <tbody>\n",
       "    <tr>\n",
       "      <td>0</td>\n",
       "      <td>TRAAAAV128F421A322</td>\n",
       "      <td>4623710</td>\n",
       "      <td>i</td>\n",
       "      <td>6</td>\n",
       "      <td>0</td>\n",
       "    </tr>\n",
       "    <tr>\n",
       "      <td>1</td>\n",
       "      <td>TRAAAAV128F421A322</td>\n",
       "      <td>4623710</td>\n",
       "      <td>the</td>\n",
       "      <td>4</td>\n",
       "      <td>0</td>\n",
       "    </tr>\n",
       "    <tr>\n",
       "      <td>2</td>\n",
       "      <td>TRAAAAV128F421A322</td>\n",
       "      <td>4623710</td>\n",
       "      <td>you</td>\n",
       "      <td>2</td>\n",
       "      <td>0</td>\n",
       "    </tr>\n",
       "    <tr>\n",
       "      <td>3</td>\n",
       "      <td>TRAAAAV128F421A322</td>\n",
       "      <td>4623710</td>\n",
       "      <td>to</td>\n",
       "      <td>2</td>\n",
       "      <td>0</td>\n",
       "    </tr>\n",
       "    <tr>\n",
       "      <td>4</td>\n",
       "      <td>TRAAAAV128F421A322</td>\n",
       "      <td>4623710</td>\n",
       "      <td>and</td>\n",
       "      <td>5</td>\n",
       "      <td>0</td>\n",
       "    </tr>\n",
       "    <tr>\n",
       "      <td>5</td>\n",
       "      <td>TRAAAAV128F421A322</td>\n",
       "      <td>4623710</td>\n",
       "      <td>a</td>\n",
       "      <td>3</td>\n",
       "      <td>0</td>\n",
       "    </tr>\n",
       "    <tr>\n",
       "      <td>6</td>\n",
       "      <td>TRAAAAV128F421A322</td>\n",
       "      <td>4623710</td>\n",
       "      <td>me</td>\n",
       "      <td>1</td>\n",
       "      <td>0</td>\n",
       "    </tr>\n",
       "    <tr>\n",
       "      <td>7</td>\n",
       "      <td>TRAAAAV128F421A322</td>\n",
       "      <td>4623710</td>\n",
       "      <td>it</td>\n",
       "      <td>1</td>\n",
       "      <td>0</td>\n",
       "    </tr>\n",
       "    <tr>\n",
       "      <td>8</td>\n",
       "      <td>TRAAAAV128F421A322</td>\n",
       "      <td>4623710</td>\n",
       "      <td>my</td>\n",
       "      <td>1</td>\n",
       "      <td>0</td>\n",
       "    </tr>\n",
       "    <tr>\n",
       "      <td>9</td>\n",
       "      <td>TRAAAAV128F421A322</td>\n",
       "      <td>4623710</td>\n",
       "      <td>is</td>\n",
       "      <td>2</td>\n",
       "      <td>0</td>\n",
       "    </tr>\n",
       "  </tbody>\n",
       "</table>\n",
       "</div>"
      ],
      "text/plain": [
       "             track_id  mxm_tid word  count  is_test\n",
       "0  TRAAAAV128F421A322  4623710    i      6        0\n",
       "1  TRAAAAV128F421A322  4623710  the      4        0\n",
       "2  TRAAAAV128F421A322  4623710  you      2        0\n",
       "3  TRAAAAV128F421A322  4623710   to      2        0\n",
       "4  TRAAAAV128F421A322  4623710  and      5        0\n",
       "5  TRAAAAV128F421A322  4623710    a      3        0\n",
       "6  TRAAAAV128F421A322  4623710   me      1        0\n",
       "7  TRAAAAV128F421A322  4623710   it      1        0\n",
       "8  TRAAAAV128F421A322  4623710   my      1        0\n",
       "9  TRAAAAV128F421A322  4623710   is      2        0"
      ]
     },
     "execution_count": 17,
     "metadata": {},
     "output_type": "execute_result"
    }
   ],
   "source": [
    "lyrics.head(10)"
   ]
  },
  {
   "cell_type": "code",
   "execution_count": 18,
   "metadata": {},
   "outputs": [],
   "source": [
    "lyrics.to_csv(\"cleaned_data/lyrics.csv\")"
   ]
  }
 ],
 "metadata": {
  "kernelspec": {
   "display_name": "Python 3",
   "language": "python",
   "name": "python3"
  },
  "language_info": {
   "codemirror_mode": {
    "name": "ipython",
    "version": 3
   },
   "file_extension": ".py",
   "mimetype": "text/x-python",
   "name": "python",
   "nbconvert_exporter": "python",
   "pygments_lexer": "ipython3",
   "version": "3.7.4"
  }
 },
 "nbformat": 4,
 "nbformat_minor": 2
}
