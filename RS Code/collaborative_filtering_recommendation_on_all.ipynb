{
 "cells": [
  {
   "cell_type": "markdown",
   "metadata": {},
   "source": [
    "# Load Data"
   ]
  },
  {
   "cell_type": "code",
   "execution_count": 1,
   "metadata": {},
   "outputs": [],
   "source": [
    "from google.cloud import storage\n",
    "import os\n",
    "from io import BytesIO\n",
    "import pandas as pd\n",
    "\n",
    "#Connect to GCP bucket and assign the bucket_name and specify the file name\n",
    "bucket_name = \"lj-bucket1\" #Assign the bucket name where your file is stored\n",
    "storage_client = storage.Client()\n",
    "bucket = storage_client.get_bucket(bucket_name)"
   ]
  },
  {
   "cell_type": "code",
   "execution_count": 2,
   "metadata": {},
   "outputs": [],
   "source": [
    "# spark configuration\n",
    "# I might be wrong, but even running 3G file on spark is very memory consuming\n",
    "\n",
    "from pyspark import SparkConf\n",
    "from pyspark.sql import SQLContext, SparkSession\n",
    "from pyspark.sql.types import *\n",
    "\n",
    "\n",
    "conf = SparkConf().setAppName(\"App\")\n",
    "conf = (conf.set('spark.executor.memory', '30G')\n",
    "            .set('spark.driver.memory', '30G')\n",
    "            .set('spark.driver.maxResultSize', '30G'))\n",
    "\n",
    "spark = SparkSession.builder\\\n",
    "                    .config(conf=conf)\\\n",
    "                    .appName('LJ')\\\n",
    "                    .getOrCreate()"
   ]
  },
  {
   "cell_type": "code",
   "execution_count": 3,
   "metadata": {},
   "outputs": [
    {
     "data": {
      "text/plain": [
       "<Blob: lj-bucket1, tracks_metadata.csv, None>"
      ]
     },
     "execution_count": 3,
     "metadata": {},
     "output_type": "execute_result"
    }
   ],
   "source": [
    "blob = storage.blob.Blob(\"tracks_metadata.csv\", bucket)\n",
    "blob"
   ]
  },
  {
   "cell_type": "code",
   "execution_count": 4,
   "metadata": {},
   "outputs": [],
   "source": [
    "content = blob.download_as_string()\n",
    "df = pd.read_csv(BytesIO(content))"
   ]
  },
  {
   "cell_type": "code",
   "execution_count": 5,
   "metadata": {},
   "outputs": [],
   "source": [
    "# Convert Pandas Dataframe to Spark Dataframe with schema    \n",
    "\n",
    "metadata_schema = StructType(\n",
    "   [StructField('track_id', StringType(), True),\n",
    "   StructField('title', StringType(), True),\n",
    "   StructField('song_id', StringType(), True),\n",
    "   StructField('release', StringType(), True),\n",
    "   StructField('artist_id', StringType(), True),\n",
    "   StructField('artist_mbid', StringType(), True),\n",
    "   StructField('artist_name', StringType(), True),\n",
    "   StructField('duration', DoubleType(), True),\n",
    "   StructField('artist_familiarity', DoubleType(), True),\n",
    "   StructField('artist_hotttness', DoubleType(), True),\n",
    "   StructField('year', IntegerType(), True)]\n",
    ")\n",
    "\n",
    "\n",
    "metadata_df = spark.createDataFrame(df, schema=metadata_schema) "
   ]
  },
  {
   "cell_type": "code",
   "execution_count": 6,
   "metadata": {},
   "outputs": [],
   "source": [
    "# read csv directly from google cloud - RECOMMENDED\n",
    "# pip install gcsfs\n",
    "# should be <5 mins\n",
    "\n",
    "df = pd.read_csv('gs://lj-bucket1/listening_history.csv')"
   ]
  },
  {
   "cell_type": "code",
   "execution_count": 7,
   "metadata": {},
   "outputs": [],
   "source": [
    "# It seems this step requires huge Memory; \n",
    "# be sure to upgrade your system to at least 15GB RAM (>30GB RAM suggested)\n",
    "# might take over 10 mins\n",
    "\n",
    "history_schema = StructType(\n",
    "  [StructField('user_id', StringType()),\n",
    "   StructField('track_id', StringType()),\n",
    "   StructField('frequency', IntegerType())]\n",
    ")\n",
    "\n",
    "history_df = spark.createDataFrame(df, schema=history_schema)"
   ]
  },
  {
   "cell_type": "code",
   "execution_count": 8,
   "metadata": {},
   "outputs": [
    {
     "name": "stdout",
     "output_type": "stream",
     "text": [
      "+--------------------+------------------+---------+\n",
      "|             user_id|          track_id|frequency|\n",
      "+--------------------+------------------+---------+\n",
      "|b80344d063b5ccb32...|TRIQAUQ128F42435AD|        1|\n",
      "|7c86176941718984f...|TRIQAUQ128F42435AD|        1|\n",
      "|76235885b32c4e8c8...|TRIQAUQ128F42435AD|        3|\n",
      "|250c0fa2a77bc6695...|TRIQAUQ128F42435AD|        1|\n",
      "|3f73f44560e822344...|TRIQAUQ128F42435AD|        6|\n",
      "+--------------------+------------------+---------+\n",
      "only showing top 5 rows\n",
      "\n"
     ]
    }
   ],
   "source": [
    "# take a quick look\n",
    "history_df.show(5)"
   ]
  },
  {
   "cell_type": "markdown",
   "metadata": {},
   "source": [
    "# Preprocessing "
   ]
  },
  {
   "cell_type": "code",
   "execution_count": 9,
   "metadata": {},
   "outputs": [],
   "source": [
    "from pyspark.sql import functions as F\n",
    "\n",
    "# change ids to int\n",
    "user_id = history_df.select('user_id')\\\n",
    "                    .distinct()\\\n",
    "                    .select('user_id', F.monotonically_increasing_id()\\\n",
    "                    .alias('new_userid'))\n",
    "\n",
    "\n",
    "track_id = history_df.select('track_id')\\\n",
    "                     .distinct()\\\n",
    "                     .select('track_id', F.monotonically_increasing_id()\\\n",
    "                     .alias('new_trackid'))"
   ]
  },
  {
   "cell_type": "code",
   "execution_count": 10,
   "metadata": {},
   "outputs": [
    {
     "name": "stdout",
     "output_type": "stream",
     "text": [
      "Number of unique users: 1019318\n",
      "Number of unique songs: 385256\n"
     ]
    }
   ],
   "source": [
    "# get total unique users and songs\n",
    "unique_users = user_id.count()\n",
    "unique_tracks = track_id.count()\n",
    "print('Number of unique users: {0}'.format(unique_users))\n",
    "print('Number of unique songs: {0}'.format(unique_tracks))"
   ]
  },
  {
   "cell_type": "markdown",
   "metadata": {},
   "source": [
    "### There are more than 1 Million Unique Users and More than 385K unique tracks."
   ]
  },
  {
   "cell_type": "code",
   "execution_count": 11,
   "metadata": {},
   "outputs": [],
   "source": [
    "# join all data\n",
    "total_df = history_df.join(user_id, 'user_id')\\\n",
    "                     .join(track_id, 'track_id')"
   ]
  },
  {
   "cell_type": "code",
   "execution_count": 12,
   "metadata": {},
   "outputs": [
    {
     "data": {
      "text/plain": [
       "49664528"
      ]
     },
     "execution_count": 12,
     "metadata": {},
     "output_type": "execute_result"
    }
   ],
   "source": [
    "total_df.count()"
   ]
  },
  {
   "cell_type": "markdown",
   "metadata": {},
   "source": [
    "### Let's make life easier...; as we are running the same algorithms anyway, and the memory on cloud is really expensive."
   ]
  },
  {
   "cell_type": "code",
   "execution_count": 13,
   "metadata": {},
   "outputs": [
    {
     "data": {
      "text/plain": [
       "DataFrame[track_id: string, user_id: string, frequency: int, new_userid: bigint, new_trackid: bigint]"
      ]
     },
     "execution_count": 13,
     "metadata": {},
     "output_type": "execute_result"
    }
   ],
   "source": [
    "# cache in memory \n",
    "# because we will revisit them from time to time\n",
    "\n",
    "metadata_df.cache()\n",
    "total_df.cache()"
   ]
  },
  {
   "cell_type": "code",
   "execution_count": 14,
   "metadata": {},
   "outputs": [
    {
     "name": "stdout",
     "output_type": "stream",
     "text": [
      "              total        used        free      shared  buff/cache   available\r\n",
      "Mem:         104741       30539       65017           8        9183       73039\r\n",
      "Swap:             0           0           0\r\n"
     ]
    }
   ],
   "source": [
    "# check memory usage\n",
    "! free -m"
   ]
  },
  {
   "cell_type": "markdown",
   "metadata": {},
   "source": [
    "# EDAV"
   ]
  },
  {
   "cell_type": "code",
   "execution_count": 15,
   "metadata": {},
   "outputs": [],
   "source": [
    "# count entries and listens\n",
    "entries = total_df.count()"
   ]
  },
  {
   "cell_type": "code",
   "execution_count": 16,
   "metadata": {},
   "outputs": [],
   "source": [
    "listens = []\n",
    "for i in range(10):\n",
    "    listens.append(float(total_df.filter(total_df.frequency == i+1).count())/entries*100)"
   ]
  },
  {
   "cell_type": "code",
   "execution_count": 17,
   "metadata": {},
   "outputs": [
    {
     "data": {
      "text/html": [
       "<div>\n",
       "<style scoped>\n",
       "    .dataframe tbody tr th:only-of-type {\n",
       "        vertical-align: middle;\n",
       "    }\n",
       "\n",
       "    .dataframe tbody tr th {\n",
       "        vertical-align: top;\n",
       "    }\n",
       "\n",
       "    .dataframe thead th {\n",
       "        text-align: right;\n",
       "    }\n",
       "</style>\n",
       "<table border=\"1\" class=\"dataframe\">\n",
       "  <thead>\n",
       "    <tr style=\"text-align: right;\">\n",
       "      <th></th>\n",
       "      <th>number</th>\n",
       "      <th>listen</th>\n",
       "    </tr>\n",
       "  </thead>\n",
       "  <tbody>\n",
       "    <tr>\n",
       "      <th>0</th>\n",
       "      <td>1</td>\n",
       "      <td>59.424320</td>\n",
       "    </tr>\n",
       "    <tr>\n",
       "      <th>1</th>\n",
       "      <td>2</td>\n",
       "      <td>15.196623</td>\n",
       "    </tr>\n",
       "    <tr>\n",
       "      <th>2</th>\n",
       "      <td>3</td>\n",
       "      <td>6.666688</td>\n",
       "    </tr>\n",
       "    <tr>\n",
       "      <th>3</th>\n",
       "      <td>4</td>\n",
       "      <td>3.747169</td>\n",
       "    </tr>\n",
       "    <tr>\n",
       "      <th>4</th>\n",
       "      <td>5</td>\n",
       "      <td>4.625289</td>\n",
       "    </tr>\n",
       "    <tr>\n",
       "      <th>5</th>\n",
       "      <td>6</td>\n",
       "      <td>2.076444</td>\n",
       "    </tr>\n",
       "    <tr>\n",
       "      <th>6</th>\n",
       "      <td>7</td>\n",
       "      <td>1.397007</td>\n",
       "    </tr>\n",
       "    <tr>\n",
       "      <th>7</th>\n",
       "      <td>8</td>\n",
       "      <td>1.011621</td>\n",
       "    </tr>\n",
       "    <tr>\n",
       "      <th>8</th>\n",
       "      <td>9</td>\n",
       "      <td>0.753538</td>\n",
       "    </tr>\n",
       "    <tr>\n",
       "      <th>9</th>\n",
       "      <td>10</td>\n",
       "      <td>0.892770</td>\n",
       "    </tr>\n",
       "  </tbody>\n",
       "</table>\n",
       "</div>"
      ],
      "text/plain": [
       "   number     listen\n",
       "0       1  59.424320\n",
       "1       2  15.196623\n",
       "2       3   6.666688\n",
       "3       4   3.747169\n",
       "4       5   4.625289\n",
       "5       6   2.076444\n",
       "6       7   1.397007\n",
       "7       8   1.011621\n",
       "8       9   0.753538\n",
       "9      10   0.892770"
      ]
     },
     "execution_count": 17,
     "metadata": {},
     "output_type": "execute_result"
    }
   ],
   "source": [
    "numbers = [i for i in range(1, 11)]\n",
    "\n",
    "d = {'number': numbers, 'listen': listens}\n",
    "df = pd.DataFrame(data=d)\n",
    "df"
   ]
  },
  {
   "cell_type": "markdown",
   "metadata": {},
   "source": [
    "## Around 59.6% of the tracks are played at least once. "
   ]
  },
  {
   "cell_type": "code",
   "execution_count": 18,
   "metadata": {},
   "outputs": [
    {
     "data": {
      "text/plain": [
       "Text(0.5, 1.0, 'Percentage of the Track Play Frequency')"
      ]
     },
     "execution_count": 18,
     "metadata": {},
     "output_type": "execute_result"
    },
    {
     "data": {
      "image/png": "[encoded data removed]",
      "text/plain": [
       "<Figure size 792x504 with 1 Axes>"
      ]
     },
     "metadata": {
      "needs_background": "light"
     },
     "output_type": "display_data"
    }
   ],
   "source": [
    "import seaborn as sns\n",
    "from matplotlib import pyplot as plt\n",
    "%matplotlib inline\n",
    "\n",
    "plt.figure(figsize=(11, 7))\n",
    "sns.barplot(x='number', y='listen', data=df, palette=\"Blues_d\")\n",
    "plt.title(\"Percentage of the Track Play Frequency\")"
   ]
  },
  {
   "cell_type": "code",
   "execution_count": 19,
   "metadata": {},
   "outputs": [
    {
     "data": {
      "text/html": [
       "<div>\n",
       "<style scoped>\n",
       "    .dataframe tbody tr th:only-of-type {\n",
       "        vertical-align: middle;\n",
       "    }\n",
       "\n",
       "    .dataframe tbody tr th {\n",
       "        vertical-align: top;\n",
       "    }\n",
       "\n",
       "    .dataframe thead th {\n",
       "        text-align: right;\n",
       "    }\n",
       "</style>\n",
       "<table border=\"1\" class=\"dataframe\">\n",
       "  <thead>\n",
       "    <tr style=\"text-align: right;\">\n",
       "      <th></th>\n",
       "      <th>number</th>\n",
       "      <th>cummulative_listen</th>\n",
       "    </tr>\n",
       "  </thead>\n",
       "  <tbody>\n",
       "    <tr>\n",
       "      <th>0</th>\n",
       "      <td>1</td>\n",
       "      <td>59.424320</td>\n",
       "    </tr>\n",
       "    <tr>\n",
       "      <th>1</th>\n",
       "      <td>2</td>\n",
       "      <td>74.620943</td>\n",
       "    </tr>\n",
       "    <tr>\n",
       "      <th>2</th>\n",
       "      <td>3</td>\n",
       "      <td>81.287630</td>\n",
       "    </tr>\n",
       "    <tr>\n",
       "      <th>3</th>\n",
       "      <td>4</td>\n",
       "      <td>85.034800</td>\n",
       "    </tr>\n",
       "    <tr>\n",
       "      <th>4</th>\n",
       "      <td>5</td>\n",
       "      <td>89.660089</td>\n",
       "    </tr>\n",
       "    <tr>\n",
       "      <th>5</th>\n",
       "      <td>6</td>\n",
       "      <td>91.736533</td>\n",
       "    </tr>\n",
       "    <tr>\n",
       "      <th>6</th>\n",
       "      <td>7</td>\n",
       "      <td>93.133540</td>\n",
       "    </tr>\n",
       "    <tr>\n",
       "      <th>7</th>\n",
       "      <td>8</td>\n",
       "      <td>94.145161</td>\n",
       "    </tr>\n",
       "    <tr>\n",
       "      <th>8</th>\n",
       "      <td>9</td>\n",
       "      <td>94.898699</td>\n",
       "    </tr>\n",
       "    <tr>\n",
       "      <th>9</th>\n",
       "      <td>10</td>\n",
       "      <td>95.791469</td>\n",
       "    </tr>\n",
       "  </tbody>\n",
       "</table>\n",
       "</div>"
      ],
      "text/plain": [
       "   number  cummulative_listen\n",
       "0       1           59.424320\n",
       "1       2           74.620943\n",
       "2       3           81.287630\n",
       "3       4           85.034800\n",
       "4       5           89.660089\n",
       "5       6           91.736533\n",
       "6       7           93.133540\n",
       "7       8           94.145161\n",
       "8       9           94.898699\n",
       "9      10           95.791469"
      ]
     },
     "execution_count": 19,
     "metadata": {},
     "output_type": "execute_result"
    }
   ],
   "source": [
    "import numpy as np\n",
    "\n",
    "total_listens = np.cumsum(listens)\n",
    "d = {'number': numbers, 'cummulative_listen': total_listens}\n",
    "df = pd.DataFrame(data=d)\n",
    "df"
   ]
  },
  {
   "cell_type": "markdown",
   "metadata": {},
   "source": [
    "## Almost 90% of the songs are played between 1 to 5 times. (<= 5 times)"
   ]
  },
  {
   "cell_type": "code",
   "execution_count": 20,
   "metadata": {},
   "outputs": [
    {
     "data": {
      "text/plain": [
       "Text(0.5, 1.0, 'Percentage of the Track Play Frequency')"
      ]
     },
     "execution_count": 20,
     "metadata": {},
     "output_type": "execute_result"
    },
    {
     "data": {
      "image/png": "[encoded data removed]",
      "text/plain": [
       "<Figure size 792x504 with 1 Axes>"
      ]
     },
     "metadata": {
      "needs_background": "light"
     },
     "output_type": "display_data"
    }
   ],
   "source": [
    "plt.figure(figsize=(11, 7))\n",
    "sns.lineplot(x='number', y='cummulative_listen', data=df, palette=\"Blues_d\")\n",
    "plt.title(\"Percentage of the Track Play Frequency\")"
   ]
  },
  {
   "cell_type": "markdown",
   "metadata": {},
   "source": [
    "# Naive Recommendation - By popularity"
   ]
  },
  {
   "cell_type": "code",
   "execution_count": 21,
   "metadata": {},
   "outputs": [
    {
     "name": "stdout",
     "output_type": "stream",
     "text": [
      "+------------------+----------+---------------+\n",
      "|track_id          |user_count|total_frequency|\n",
      "+------------------+----------+---------------+\n",
      "|TRAEHHJ12903CF492F|84000     |726885         |\n",
      "|TRGXQES128F42BA5EB|90476     |648239         |\n",
      "|TRONYHY128F92C9D11|80656     |527893         |\n",
      "+------------------+----------+---------------+\n",
      "only showing top 3 rows\n",
      "\n"
     ]
    }
   ],
   "source": [
    "tracks_with_listens = total_df.groupBy('track_id')\\\n",
    "                              .agg(F.count(total_df.frequency).alias('user_count'),\n",
    "                                   F.sum(total_df.frequency).alias('total_frequency'))\\\n",
    "                              .orderBy('total_frequency', ascending = False)\n",
    "\n",
    "tracks_with_listens.show(3, truncate=False)"
   ]
  },
  {
   "cell_type": "code",
   "execution_count": 22,
   "metadata": {},
   "outputs": [
    {
     "name": "stdout",
     "output_type": "stream",
     "text": [
      "+----------------------------------------------------------------------+-------------------------------------------------------------------+----------+---------------+\n",
      "|artist_name                                                           |title                                                              |user_count|total_frequency|\n",
      "+----------------------------------------------------------------------+-------------------------------------------------------------------+----------+---------------+\n",
      "|Dwight Yoakam                                                         |You're The One                                                     |84000     |726885         |\n",
      "|Björk                                                                 |Undo                                                               |90476     |648239         |\n",
      "|Kings Of Leon                                                         |Revelry                                                            |80656     |527893         |\n",
      "|Harmonia                                                              |Sehr kosmisch                                                      |110479    |425463         |\n",
      "|Barry Tuckwell/Academy of St Martin-in-the-Fields/Sir Neville Marriner|Horn Concerto No. 4 in E flat K495: II. Romance (Andante cantabile)|69487     |389880         |\n",
      "|Florence + The Machine                                                |Dog Days Are Over (Radio Edit)                                     |90444     |356533         |\n",
      "|OneRepublic                                                           |Secrets                                                            |78353     |292642         |\n",
      "|Five Iron Frenzy                                                      |Canada                                                             |46078     |274627         |\n",
      "|Tub Ring                                                              |Invalid                                                            |37642     |268353         |\n",
      "|Sam Cooke                                                             |Ain't Misbehavin                                                   |36976     |244730         |\n",
      "+----------------------------------------------------------------------+-------------------------------------------------------------------+----------+---------------+\n",
      "only showing top 10 rows\n",
      "\n"
     ]
    }
   ],
   "source": [
    "# Join with metadata \n",
    "# Get detailed song information\n",
    "\n",
    "tracks_with_listens_names = tracks_with_listens.join(metadata_df, 'track_id' ) \\\n",
    "                                               .filter('user_count >= 200') \\\n",
    "                                               .select('artist_name', 'title', 'user_count','total_frequency') \\\n",
    "                                               .orderBy('total_frequency', ascending = False)\n",
    "\n",
    "# display 20 most popular songs\n",
    "tracks_with_listens_names.show(n=10, truncate = False)"
   ]
  },
  {
   "cell_type": "code",
   "execution_count": 23,
   "metadata": {},
   "outputs": [
    {
     "name": "stdout",
     "output_type": "stream",
     "text": [
      "+--------------------+--------------------+----------+---------------+\n",
      "|         artist_name|               title|user_count|total_frequency|\n",
      "+--------------------+--------------------+----------+---------------+\n",
      "|       Dwight Yoakam|      You're The One|     84000|         726885|\n",
      "|               Björk|                Undo|     90476|         648239|\n",
      "|       Kings Of Leon|             Revelry|     80656|         527893|\n",
      "|            Harmonia|       Sehr kosmisch|    110479|         425463|\n",
      "|Barry Tuckwell/Ac...|Horn Concerto No....|     69487|         389880|\n",
      "|Florence + The Ma...|Dog Days Are Over...|     90444|         356533|\n",
      "|         OneRepublic|             Secrets|     78353|         292642|\n",
      "|    Five Iron Frenzy|              Canada|     46078|         274627|\n",
      "|            Tub Ring|             Invalid|     37642|         268353|\n",
      "|           Sam Cooke|    Ain't Misbehavin|     36976|         244730|\n",
      "+--------------------+--------------------+----------+---------------+\n",
      "only showing top 10 rows\n",
      "\n"
     ]
    }
   ],
   "source": [
    "# try different display options\n",
    "tracks_with_listens_names.show(n=10)"
   ]
  },
  {
   "cell_type": "code",
   "execution_count": 24,
   "metadata": {},
   "outputs": [
    {
     "name": "stdout",
     "output_type": "stream",
     "text": [
      "+----------------------------------------------------------------------+-------------------------------------------------------------------+\n",
      "|artist_name                                                           |title                                                              |\n",
      "+----------------------------------------------------------------------+-------------------------------------------------------------------+\n",
      "|Dwight Yoakam                                                         |You're The One                                                     |\n",
      "|Björk                                                                 |Undo                                                               |\n",
      "|Kings Of Leon                                                         |Revelry                                                            |\n",
      "|Harmonia                                                              |Sehr kosmisch                                                      |\n",
      "|Barry Tuckwell/Academy of St Martin-in-the-Fields/Sir Neville Marriner|Horn Concerto No. 4 in E flat K495: II. Romance (Andante cantabile)|\n",
      "|Florence + The Machine                                                |Dog Days Are Over (Radio Edit)                                     |\n",
      "|OneRepublic                                                           |Secrets                                                            |\n",
      "|Five Iron Frenzy                                                      |Canada                                                             |\n",
      "|Tub Ring                                                              |Invalid                                                            |\n",
      "|Sam Cooke                                                             |Ain't Misbehavin                                                   |\n",
      "+----------------------------------------------------------------------+-------------------------------------------------------------------+\n",
      "only showing top 10 rows\n",
      "\n"
     ]
    }
   ],
   "source": [
    "tracks_with_listens_names.select(\"artist_name\", \"title\").show(n=10, truncate=False)"
   ]
  },
  {
   "cell_type": "markdown",
   "metadata": {},
   "source": [
    "# Collaborative Filtering"
   ]
  },
  {
   "cell_type": "markdown",
   "metadata": {},
   "source": [
    "Assumption: if person A and B share similar listening history, A might be also interested in B's other songs.\n",
    "\n",
    "For this history, as for each user, we have song plays frequency for only a subset of the songs, because not all users listened to all songs. \n",
    "\n",
    "The intuition is that collaborative filtering would be able to approximate the matrix; which decompomise the matrix as the product of \"user property\" cross \"song property\".\n",
    "\n",
    "I will do the optimiazation with ALS algorithm:\n",
    "\n",
    "1. first randomly fill in the users matrix\n",
    "2. optimize the song values that the error is minimized (least squared error)\n",
    "3. then, hold song's value fixed and optimize the user matrix (that's why it's called alternation)"
   ]
  },
  {
   "cell_type": "code",
   "execution_count": 27,
   "metadata": {},
   "outputs": [],
   "source": [
    "# train, validation, test  ---  0.6, 0.2, 0.2\n",
    "\n",
    "train_df, valid_df, test_df = total_df.randomSplit([0.6, 0.2, 0.2])"
   ]
  },
  {
   "cell_type": "code",
   "execution_count": 28,
   "metadata": {},
   "outputs": [],
   "source": [
    "# make sure all frequency in double type\n",
    "\n",
    "train_df = train_df.withColumn(\"frequency\", train_df[\"frequency\"].cast(DoubleType()))\n",
    "valid_df = valid_df.withColumn(\"frequency\", valid_df[\"frequency\"].cast(DoubleType()))\n",
    "test_df = test_df.withColumn(\"frequency\", test_df[\"frequency\"].cast(DoubleType()))"
   ]
  },
  {
   "cell_type": "code",
   "execution_count": 29,
   "metadata": {},
   "outputs": [],
   "source": [
    "# ALS has strict requirement for data type\n",
    "# bigint is very problematic\n",
    "# make bigint to int\n",
    "\n",
    "train_df = train_df.withColumn(\"new_userid\", train_df[\"new_userid\"].cast(IntegerType()))\n",
    "train_df = train_df.withColumn(\"new_trackid\", train_df[\"new_trackid\"].cast(IntegerType()))\n",
    "\n",
    "valid_df = valid_df.withColumn(\"new_userid\", valid_df[\"new_userid\"].cast(IntegerType()))\n",
    "valid_df = valid_df.withColumn(\"new_trackid\", valid_df[\"new_trackid\"].cast(IntegerType()))\n",
    "\n",
    "test_df = test_df.withColumn(\"new_userid\", test_df[\"new_userid\"].cast(IntegerType()))\n",
    "test_df = test_df.withColumn(\"new_trackid\", test_df[\"new_trackid\"].cast(IntegerType()))"
   ]
  },
  {
   "cell_type": "code",
   "execution_count": 30,
   "metadata": {},
   "outputs": [],
   "source": [
    "# Cache those to save memory\n",
    "\n",
    "train_df = train_df.cache()\n",
    "valid_df = valid_df.cache()\n",
    "test_df = test_df.cache()"
   ]
  },
  {
   "cell_type": "code",
   "execution_count": 31,
   "metadata": {},
   "outputs": [
    {
     "name": "stdout",
     "output_type": "stream",
     "text": [
      "+------------------+--------------------+---------+----------+-----------+\n",
      "|          track_id|             user_id|frequency|new_userid|new_trackid|\n",
      "+------------------+--------------------+---------+----------+-----------+\n",
      "|TRAADJU128F92F58E1|5a3417a1955d91364...|      1.0|       782|        870|\n",
      "|TRAADQX128F422B4CF|00c54b607a321a950...|      1.0|      5085|        345|\n",
      "|TRAADQX128F422B4CF|01cd07155ccfcfc50...|     13.0|      3051|        345|\n",
      "|TRAADQX128F422B4CF|02f1fac05069ff021...|      6.0|      3998|        345|\n",
      "|TRAADQX128F422B4CF|0389cf2c68d386b8c...|      1.0|      1404|        345|\n",
      "+------------------+--------------------+---------+----------+-----------+\n",
      "only showing top 5 rows\n",
      "\n"
     ]
    }
   ],
   "source": [
    "train_df.show(5)"
   ]
  },
  {
   "cell_type": "markdown",
   "metadata": {},
   "source": [
    "# ALS"
   ]
  },
  {
   "cell_type": "code",
   "execution_count": 32,
   "metadata": {},
   "outputs": [],
   "source": [
    "from pyspark.ml.recommendation import ALS\n",
    "from pyspark.ml.evaluation import RegressionEvaluator\n",
    "\n",
    "# initialization\n",
    "\n",
    "als = ALS().setMaxIter(5)\\\n",
    "            .setItemCol(\"new_trackid\")\\\n",
    "            .setRatingCol(\"frequency\")\\\n",
    "            .setUserCol(\"new_userid\")"
   ]
  },
  {
   "cell_type": "code",
   "execution_count": 33,
   "metadata": {},
   "outputs": [],
   "source": [
    "# evaluation metric - RMSE\n",
    "\n",
    "eval_metric = RegressionEvaluator(predictionCol=\"prediction\",\n",
    "                           labelCol=\"frequency\",\n",
    "                           metricName=\"rmse\")"
   ]
  },
  {
   "cell_type": "code",
   "execution_count": 34,
   "metadata": {},
   "outputs": [],
   "source": [
    "# hyper parameter space for cross validation - grid search\n",
    "\n",
    "ranks = [6, 8, 10, 12, 14]\n",
    "regParams = [0.2, 0.25, 0.3, 0.35]\n",
    "errors = [[0]*len(ranks)]*len(regParams)\n",
    "models = [[0]*len(ranks)]*len(regParams)\n",
    "min_error = float('inf')\n",
    "i = 0"
   ]
  },
  {
   "cell_type": "code",
   "execution_count": 35,
   "metadata": {},
   "outputs": [
    {
     "name": "stdout",
     "output_type": "stream",
     "text": [
      "rank 6, regularization parameter 0.2 the RMSE is 6.308745142581982\n",
      "rank 8, regularization parameter 0.2 the RMSE is 6.311075749956096\n",
      "rank 10, regularization parameter 0.2 the RMSE is 6.309891551356756\n",
      "rank 12, regularization parameter 0.2 the RMSE is 6.31031605622553\n",
      "rank 14, regularization parameter 0.2 the RMSE is 6.3096964880048665\n",
      "rank 6, regularization parameter 0.25 the RMSE is 6.306776910793692\n",
      "rank 8, regularization parameter 0.25 the RMSE is 6.307839557342152\n",
      "rank 10, regularization parameter 0.25 the RMSE is 6.307985830644328\n",
      "rank 12, regularization parameter 0.25 the RMSE is 6.308361116377259\n",
      "rank 14, regularization parameter 0.25 the RMSE is 6.307658734396343\n",
      "rank 6, regularization parameter 0.3 the RMSE is 6.308165838090979\n",
      "rank 8, regularization parameter 0.3 the RMSE is 6.308449547110824\n",
      "rank 10, regularization parameter 0.3 the RMSE is 6.308892568021059\n",
      "rank 12, regularization parameter 0.3 the RMSE is 6.309016296429492\n",
      "rank 14, regularization parameter 0.3 the RMSE is 6.308570243484229\n",
      "rank 6, regularization parameter 0.35 the RMSE is 6.310734134051681\n",
      "rank 8, regularization parameter 0.35 the RMSE is 6.310815111936606\n",
      "rank 10, regularization parameter 0.35 the RMSE is 6.311046631152253\n",
      "rank 12, regularization parameter 0.35 the RMSE is 6.311119005092852\n",
      "rank 14, regularization parameter 0.35 the RMSE is 6.310862692940207\n"
     ]
    }
   ],
   "source": [
    "for regParam in regParams:\n",
    "    j = 0\n",
    "    for rank in ranks:\n",
    "        # grid search starts\n",
    "        als.setParams(rank = rank, regParam = regParam)\n",
    "        model = als.fit(train_df)\n",
    "        \n",
    "        # validation performance\n",
    "        predict_df = model.transform(valid_df)\n",
    "\n",
    "        # Remove NaN values from prediction\n",
    "        predicted_plays_df = predict_df.filter(predict_df.prediction != float('nan'))\n",
    "        predicted_plays_df = predicted_plays_df.withColumn(\"prediction\", F.abs(F.round(predicted_plays_df[\"prediction\"],0)))\n",
    "\n",
    "        error = eval_metric.evaluate(predicted_plays_df)\n",
    "        errors[i][j] = error\n",
    "        models[i][j] = model\n",
    "        print ('rank %s, regularization parameter %s the RMSE is %s' % (rank, regParam, error))\n",
    "        if error < min_error:\n",
    "            min_error = error\n",
    "            best_params = [i,j]\n",
    "        j += 1\n",
    "    i += 1"
   ]
  },
  {
   "cell_type": "markdown",
   "metadata": {},
   "source": [
    "### On the whole dataset, it doesn't help that much to tune the hyperparameter. "
   ]
  },
  {
   "cell_type": "code",
   "execution_count": 36,
   "metadata": {},
   "outputs": [
    {
     "name": "stdout",
     "output_type": "stream",
     "text": [
      "The best regularization parameter is 0.25\n",
      "The best rank is 6\n"
     ]
    }
   ],
   "source": [
    "# best parameters\n",
    "\n",
    "als.setRegParam(regParams[best_params[0]])\n",
    "als.setRank(ranks[best_params[1]])\n",
    "print ('The best regularization parameter is %s' % regParams[best_params[0]])\n",
    "print ('The best rank is %s' % ranks[best_params[1]])\n",
    "my_model = models[best_params[0]][best_params[1]]"
   ]
  },
  {
   "cell_type": "code",
   "execution_count": 37,
   "metadata": {},
   "outputs": [
    {
     "name": "stdout",
     "output_type": "stream",
     "text": [
      "+------------------+--------------------+---------+----------+-----------+----------+\n",
      "|          track_id|             user_id|frequency|new_userid|new_trackid|prediction|\n",
      "+------------------+--------------------+---------+----------+-----------+----------+\n",
      "|TRJUFSI128F42BA722|149c6088e2ff76512...|      1.0|       148|        148|       2.0|\n",
      "|TRKOZVY12903CFDBD0|f2ae4721376a83b97...|     18.0|       148|        148|       2.0|\n",
      "|TRPZOLS128F427EEFB|d8b77ab59b79b6cd9...|      1.0|       148|        148|       2.0|\n",
      "|TRMPSGR128F92D31F3|999ca7ef5c7f1ad44...|      1.0|       148|        148|       2.0|\n",
      "|TRHPMLM128F92F10C5|0981a87799e11bbc9...|      1.0|       148|        148|       2.0|\n",
      "|TRDQRVE128F427BFAF|051574346cd47b612...|      1.0|       148|        148|       2.0|\n",
      "|TRYJCWT128F42635D6|ba9cf21677846e06c...|      1.0|       148|        148|       2.0|\n",
      "|TRRSGAK128E0786BAE|16a5d42ae7a16eac2...|      4.0|       463|        148|       3.0|\n",
      "|TRXZKTY128F149ACD8|d376d833b4934d516...|      5.0|       463|        148|       3.0|\n",
      "|TRRISPE128F4262A70|4534b3a9236f643c1...|      2.0|       471|        148|       3.0|\n",
      "+------------------+--------------------+---------+----------+-----------+----------+\n",
      "only showing top 10 rows\n",
      "\n"
     ]
    }
   ],
   "source": [
    "#Example of predicted plays\n",
    "predicted_plays_df.show(10)"
   ]
  },
  {
   "cell_type": "markdown",
   "metadata": {},
   "source": [
    "# Evaluation on test"
   ]
  },
  {
   "cell_type": "code",
   "execution_count": 38,
   "metadata": {},
   "outputs": [
    {
     "name": "stdout",
     "output_type": "stream",
     "text": [
      "The final RMSE on the test set is 6.461274416023\n"
     ]
    }
   ],
   "source": [
    "predict_df = my_model.transform(test_df)\n",
    "\n",
    "# Remove nan\n",
    "predicted_test_df = predict_df.filter(predict_df.prediction != float('nan'))\n",
    "# round to int\n",
    "predicted_test_df = predicted_test_df.withColumn(\"prediction\", F.abs(F.round(predicted_test_df[\"prediction\"],0)))\n",
    "test_RMSE = eval_metric.evaluate(predicted_test_df)\n",
    "\n",
    "print('The final RMSE on the test set is {0}'.format(test_RMSE))"
   ]
  },
  {
   "cell_type": "markdown",
   "metadata": {},
   "source": [
    "### It seems to be a nice score. We need to examine the result to check if it can make sense."
   ]
  },
  {
   "cell_type": "markdown",
   "metadata": {},
   "source": [
    "# Evaluation on a specific user"
   ]
  },
  {
   "cell_type": "code",
   "execution_count": 39,
   "metadata": {},
   "outputs": [],
   "source": [
    "# randomly assign a user\n",
    "user = 101\n",
    "tracks = total_df.filter(total_df.new_userid == user)\\\n",
    "                .join(metadata_df, 'track_id') \\\n",
    "                .select('new_trackid', 'artist_name', 'title') "
   ]
  },
  {
   "cell_type": "code",
   "execution_count": 40,
   "metadata": {},
   "outputs": [
    {
     "name": "stdout",
     "output_type": "stream",
     "text": [
      "Tracks that user already listened to:\n",
      "+------------+-----------------+-----------------------------------------------------+\n",
      "|new_trackid |artist_name      |title                                                |\n",
      "+------------+-----------------+-----------------------------------------------------+\n",
      "|42949673382 |Spitalfield      |Those Days You Felt Alive (Album Version)            |\n",
      "|137438953622|Yellowcard       |Fighting                                             |\n",
      "|146028888098|Rise Against     |Audience Of One                                      |\n",
      "|180388626438|Cage The Elephant|Back Against The Wall                                |\n",
      "|206158430233|Rise Against     |Under The Knife                                      |\n",
      "|214748364996|Gym Class Heroes |It's OK_ But Just This Once! (Explicit Album Version)|\n",
      "|292057776186|Dr Feelgood      |Riot In Cell Block Number Nine                       |\n",
      "|352187318273|Cage The Elephant|Ain't No Rest For The Wicked (Original Version)      |\n",
      "|360777252873|Evanescence      |Bring Me To Life                                     |\n",
      "|360777252930|Saliva           |Click Click Boom                                     |\n",
      "+------------+-----------------+-----------------------------------------------------+\n",
      "only showing top 10 rows\n",
      "\n"
     ]
    }
   ],
   "source": [
    "print(\"Tracks that user already listened to:\")\n",
    "tracks.show(10, truncate=False)"
   ]
  },
  {
   "cell_type": "code",
   "execution_count": 41,
   "metadata": {},
   "outputs": [],
   "source": [
    "# generate unlistened tracks\n",
    "\n",
    "listened_track = []\n",
    "for track in tracks.collect():\n",
    "    listened_track.append(track['new_trackid'])\n",
    "    \n",
    "unlistened_track = total_df.filter(~ total_df['new_trackid'].isin(listened_track))\\\n",
    "                            .select('new_trackid')\\\n",
    "                            .withColumn('new_userid', F.lit(user))\\\n",
    "                            .distinct().select('new_userid', 'new_trackid')"
   ]
  },
  {
   "cell_type": "code",
   "execution_count": 42,
   "metadata": {},
   "outputs": [],
   "source": [
    "# switch data type from bigint to int\n",
    "\n",
    "unlistened_track = unlistened_track.withColumn(\"new_trackid\", unlistened_track[\"new_trackid\"].cast(IntegerType()))"
   ]
  },
  {
   "cell_type": "code",
   "execution_count": 43,
   "metadata": {},
   "outputs": [],
   "source": [
    "predicted_listens = my_model.transform(unlistened_track).distinct()\n",
    "predicted_listens = predicted_listens.filter(predicted_listens['prediction'] != float('nan'))"
   ]
  },
  {
   "cell_type": "code",
   "execution_count": 47,
   "metadata": {},
   "outputs": [],
   "source": [
    "spark.conf.set(\"spark.sql.crossJoin.enabled\", True)"
   ]
  },
  {
   "cell_type": "code",
   "execution_count": 48,
   "metadata": {},
   "outputs": [
    {
     "name": "stdout",
     "output_type": "stream",
     "text": [
      "+----------+-----------+----------+\n",
      "|new_userid|new_trackid|prediction|\n",
      "+----------+-----------+----------+\n",
      "|       101|        463| 2.5012994|\n",
      "|       101|       1946| 1.5643767|\n",
      "|       101|       1231|  2.299659|\n",
      "|       101|        533| 2.4257603|\n",
      "|       101|         45|  2.432258|\n",
      "+----------+-----------+----------+\n",
      "only showing top 5 rows\n",
      "\n"
     ]
    }
   ],
   "source": [
    "predicted_listens.show(5)"
   ]
  },
  {
   "cell_type": "code",
   "execution_count": 50,
   "metadata": {},
   "outputs": [
    {
     "name": "stdout",
     "output_type": "stream",
     "text": [
      "Predicted Unlistened Tracks for user-id 101:\n",
      "+---------------+-----------------------------------+----------+\n",
      "|artist_name    |title                              |prediction|\n",
      "+---------------+-----------------------------------+----------+\n",
      "|Martin Simpson |Pretty Saro / Long Steel Rail      |3.1813297 |\n",
      "|Daft Punk      |Indo Silver Club                   |3.179399  |\n",
      "|DJ Paul        |No More Wars In This World         |3.095704  |\n",
      "|Mad Sin        |Gone Forever                       |3.0760639 |\n",
      "|Joe Zawinul    |Arrival In New York (LP Version)   |3.0368576 |\n",
      "|Ricky Fante    |Smile                              |2.9288943 |\n",
      "|The Stooges    |Little Doll (Remastered LP Version)|2.902911  |\n",
      "|Rancid         |Motorcycle Ride (Album Version)    |2.8918796 |\n",
      "|John Mellencamp|Now More Than Ever                 |2.8734195 |\n",
      "|Amon Amarth    |North Sea Storm                    |2.8329525 |\n",
      "+---------------+-----------------------------------+----------+\n",
      "only showing top 10 rows\n",
      "\n"
     ]
    }
   ],
   "source": [
    "print('Predicted Unlistened Tracks for user-id 101:')\n",
    "pre = predicted_listens.join(total_df, 'new_trackid')\\\n",
    "                 .join(metadata_df, 'track_id')\\\n",
    "                 .select('artist_name', 'title', 'prediction')\\\n",
    "                 .distinct()\\\n",
    "                 .orderBy('prediction', ascending = False)\\\n",
    "                 \n",
    "pre.show(10, truncate=False)"
   ]
  }
 ],
 "metadata": {
  "kernelspec": {
   "display_name": "Python 3",
   "language": "python",
   "name": "python3"
  },
  "language_info": {
   "codemirror_mode": {
    "name": "ipython",
    "version": 3
   },
   "file_extension": ".py",
   "mimetype": "text/x-python",
   "name": "python",
   "nbconvert_exporter": "python",
   "pygments_lexer": "ipython3",
   "version": "3.7.4"
  }
 },
 "nbformat": 4,
 "nbformat_minor": 4
}
